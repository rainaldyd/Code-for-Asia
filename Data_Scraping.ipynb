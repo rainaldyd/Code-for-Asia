{
 "cells": [
  {
   "cell_type": "markdown",
   "id": "0a95b2ac",
   "metadata": {},
   "source": [
    "# Twitter Data Scraping"
   ]
  },
  {
   "cell_type": "markdown",
   "id": "300aa7a7",
   "metadata": {},
   "source": [
    "## Business Understanding"
   ]
  },
  {
   "cell_type": "markdown",
   "id": "b851d7f2",
   "metadata": {},
   "source": [
    "In this case, I have to scrape 50 tweets with following requirements:\n",
    "- containing the keyword \"China\", and\n",
    "- limit to Singaporean account."
   ]
  },
  {
   "cell_type": "markdown",
   "id": "29248def",
   "metadata": {},
   "source": [
    "#### Import module"
   ]
  },
  {
   "cell_type": "code",
   "execution_count": 1,
   "id": "c2b963d6",
   "metadata": {},
   "outputs": [],
   "source": [
    "import json, tweepy, re, string\n",
    "import pandas as pd\n",
    "from nltk.corpus import stopwords\n",
    "from nltk.tokenize import word_tokenize\n",
    "import numpy as np\n",
    "import matplotlib.pyplot as plt\n",
    "import seaborn as sns\n",
    "from nltk.probability import FreqDist\n",
    "from nltk import ngrams\n",
    "\n",
    "sns.set()"
   ]
  },
  {
   "cell_type": "markdown",
   "id": "545e24d4",
   "metadata": {},
   "source": [
    "## Data Collection"
   ]
  },
  {
   "cell_type": "markdown",
   "id": "53eb91ea",
   "metadata": {},
   "source": [
    "Token, authentication and API variable preparation. Because I did not get Twitter token from Code for Asia, for a while I will use my friend's token. I named the token \"token.json\"."
   ]
  },
  {
   "cell_type": "code",
   "execution_count": 2,
   "id": "bd31e19b",
   "metadata": {},
   "outputs": [],
   "source": [
    "with open(\"token.json\")as f:\n",
    "    tokens = json.load(f)\n",
    "\n",
    "bearer_token = tokens[\"bearer_token\"]\n",
    "api_key = tokens[\"api_key\"]\n",
    "api_key_secret = tokens[\"api_key_secret\"]\n",
    "access_token = tokens[\"access_token\"]\n",
    "access_token_secret = tokens[\"access_token_secret\"]\n",
    "\n",
    "auth = tweepy.OAuthHandler(api_key, api_key_secret)\n",
    "auth.set_access_token(access_token, access_token_secret)\n",
    "api = tweepy.API(auth, wait_on_rate_limit=True)"
   ]
  },
  {
   "cell_type": "markdown",
   "id": "56393380",
   "metadata": {},
   "source": [
    "Define request parameter variables."
   ]
  },
  {
   "cell_type": "code",
   "execution_count": 3,
   "id": "457094aa",
   "metadata": {},
   "outputs": [],
   "source": [
    "keyword = \"china\"\n",
    "place_id = \"2509b9adc1fedfd2\"   # place_id for Singapore\n",
    "max_result = 50"
   ]
  },
  {
   "cell_type": "markdown",
   "id": "6d8d4384",
   "metadata": {},
   "source": [
    "Make request to Twitter API."
   ]
  },
  {
   "cell_type": "code",
   "execution_count": 4,
   "id": "d42ef811",
   "metadata": {},
   "outputs": [],
   "source": [
    "query = \"{} place:{}\".format(keyword, place_id)\n",
    "tweets = tweepy.Cursor(api.search_tweets,\n",
    "                       q=query,\n",
    "                       lang=\"en\",   # only get english tweets\n",
    "                      ).items(max_result)"
   ]
  },
  {
   "cell_type": "markdown",
   "id": "214e80b0",
   "metadata": {},
   "source": [
    "Save request/scrape result to a Dataframe."
   ]
  },
  {
   "cell_type": "code",
   "execution_count": 5,
   "id": "adad871a",
   "metadata": {},
   "outputs": [
    {
     "data": {
      "text/html": [
       "<div>\n",
       "<style scoped>\n",
       "    .dataframe tbody tr th:only-of-type {\n",
       "        vertical-align: middle;\n",
       "    }\n",
       "\n",
       "    .dataframe tbody tr th {\n",
       "        vertical-align: top;\n",
       "    }\n",
       "\n",
       "    .dataframe thead th {\n",
       "        text-align: right;\n",
       "    }\n",
       "</style>\n",
       "<table border=\"1\" class=\"dataframe\">\n",
       "  <thead>\n",
       "    <tr style=\"text-align: right;\">\n",
       "      <th></th>\n",
       "      <th>Created At</th>\n",
       "      <th>Tweet</th>\n",
       "    </tr>\n",
       "  </thead>\n",
       "  <tbody>\n",
       "    <tr>\n",
       "      <th>0</th>\n",
       "      <td>2022-02-05 12:39:16+00:00</td>\n",
       "      <td>Long live world peace!\\n\\n Why Putin's visit t...</td>\n",
       "    </tr>\n",
       "    <tr>\n",
       "      <th>1</th>\n",
       "      <td>2022-02-05 03:12:36+00:00</td>\n",
       "      <td>I think politics is a big reason too.\\nChina t...</td>\n",
       "    </tr>\n",
       "    <tr>\n",
       "      <th>2</th>\n",
       "      <td>2022-02-04 14:31:38+00:00</td>\n",
       "      <td>P3...\\n The US should know that its allies in ...</td>\n",
       "    </tr>\n",
       "    <tr>\n",
       "      <th>3</th>\n",
       "      <td>2022-02-04 14:25:52+00:00</td>\n",
       "      <td>Asia is Asian!\\n\\n US President Joe Biden, who...</td>\n",
       "    </tr>\n",
       "    <tr>\n",
       "      <th>4</th>\n",
       "      <td>2022-02-04 05:44:37+00:00</td>\n",
       "      <td>In mainland China, online MeToo posts were slo...</td>\n",
       "    </tr>\n",
       "    <tr>\n",
       "      <th>5</th>\n",
       "      <td>2022-02-04 02:23:20+00:00</td>\n",
       "      <td>@rupagulab Coz he maybe popular amongst the gu...</td>\n",
       "    </tr>\n",
       "    <tr>\n",
       "      <th>6</th>\n",
       "      <td>2022-02-03 23:56:25+00:00</td>\n",
       "      <td>It's not like China when govt has power to cha...</td>\n",
       "    </tr>\n",
       "    <tr>\n",
       "      <th>7</th>\n",
       "      <td>2022-02-03 23:06:10+00:00</td>\n",
       "      <td>I really dislike China ppl asking me for direc...</td>\n",
       "    </tr>\n",
       "    <tr>\n",
       "      <th>8</th>\n",
       "      <td>2022-02-03 18:03:25+00:00</td>\n",
       "      <td>Important distinction: imperial China had a tr...</td>\n",
       "    </tr>\n",
       "    <tr>\n",
       "      <th>9</th>\n",
       "      <td>2022-02-03 15:45:53+00:00</td>\n",
       "      <td>We love Jacky China 🇨🇳 https://t.co/AQFXz4pYqW</td>\n",
       "    </tr>\n",
       "    <tr>\n",
       "      <th>10</th>\n",
       "      <td>2022-02-03 05:42:57+00:00</td>\n",
       "      <td>This cat and dog comics from China is quite cu...</td>\n",
       "    </tr>\n",
       "    <tr>\n",
       "      <th>11</th>\n",
       "      <td>2022-02-02 12:54:04+00:00</td>\n",
       "      <td>@chorpharn Maybe they’re salty that China has ...</td>\n",
       "    </tr>\n",
       "    <tr>\n",
       "      <th>12</th>\n",
       "      <td>2022-02-02 10:02:37+00:00</td>\n",
       "      <td>\"Winning over China is a billion times bigger ...</td>\n",
       "    </tr>\n",
       "    <tr>\n",
       "      <th>13</th>\n",
       "      <td>2022-02-02 08:56:27+00:00</td>\n",
       "      <td>Cancel mob motto.\\n\\nDun cancel apple, Google,...</td>\n",
       "    </tr>\n",
       "    <tr>\n",
       "      <th>14</th>\n",
       "      <td>2022-02-01 11:52:08+00:00</td>\n",
       "      <td>@Eugeneksk we should be china then can have on...</td>\n",
       "    </tr>\n",
       "    <tr>\n",
       "      <th>15</th>\n",
       "      <td>2022-02-01 08:50:08+00:00</td>\n",
       "      <td>Finally Buddhist temples in Singapore have cau...</td>\n",
       "    </tr>\n",
       "    <tr>\n",
       "      <th>16</th>\n",
       "      <td>2022-02-01 07:47:22+00:00</td>\n",
       "      <td>So apparently in China they are off for 10 day...</td>\n",
       "    </tr>\n",
       "    <tr>\n",
       "      <th>17</th>\n",
       "      <td>2022-02-01 02:30:44+00:00</td>\n",
       "      <td>Building in China. The lack of windows us very...</td>\n",
       "    </tr>\n",
       "    <tr>\n",
       "      <th>18</th>\n",
       "      <td>2022-01-30 15:32:08+00:00</td>\n",
       "      <td>Jessica Tan, Co-CEO and Executive Director of ...</td>\n",
       "    </tr>\n",
       "    <tr>\n",
       "      <th>19</th>\n",
       "      <td>2022-01-30 10:02:16+00:00</td>\n",
       "      <td>China reports 34 new COVID-19 cases among Olym...</td>\n",
       "    </tr>\n",
       "    <tr>\n",
       "      <th>20</th>\n",
       "      <td>2022-01-29 14:29:46+00:00</td>\n",
       "      <td>As long as my taobao comes\\n\\nOr is it \"China ...</td>\n",
       "    </tr>\n",
       "    <tr>\n",
       "      <th>21</th>\n",
       "      <td>2022-01-29 14:29:45+00:00</td>\n",
       "      <td>Just curious what is woke Twitter Singapore mo...</td>\n",
       "    </tr>\n",
       "    <tr>\n",
       "      <th>22</th>\n",
       "      <td>2022-01-29 13:07:05+00:00</td>\n",
       "      <td>One of first casualty of covid19 , China a doc...</td>\n",
       "    </tr>\n",
       "    <tr>\n",
       "      <th>23</th>\n",
       "      <td>2022-01-29 11:34:54+00:00</td>\n",
       "      <td>A must-follow for China news. https://t.co/tLK...</td>\n",
       "    </tr>\n",
       "    <tr>\n",
       "      <th>24</th>\n",
       "      <td>2022-01-29 05:02:47+00:00</td>\n",
       "      <td>Welcome to China #Ultraman #Veve https://t.co/...</td>\n",
       "    </tr>\n",
       "    <tr>\n",
       "      <th>25</th>\n",
       "      <td>2022-01-28 22:13:58+00:00</td>\n",
       "      <td>Where people are treated like animals. 国家only ...</td>\n",
       "    </tr>\n",
       "    <tr>\n",
       "      <th>26</th>\n",
       "      <td>2022-01-28 17:15:02+00:00</td>\n",
       "      <td>China is its own world economy onto itself</td>\n",
       "    </tr>\n",
       "    <tr>\n",
       "      <th>27</th>\n",
       "      <td>2022-01-28 17:15:02+00:00</td>\n",
       "      <td>China is technically a world of its whole with...</td>\n",
       "    </tr>\n",
       "  </tbody>\n",
       "</table>\n",
       "</div>"
      ],
      "text/plain": [
       "                  Created At  \\\n",
       "0  2022-02-05 12:39:16+00:00   \n",
       "1  2022-02-05 03:12:36+00:00   \n",
       "2  2022-02-04 14:31:38+00:00   \n",
       "3  2022-02-04 14:25:52+00:00   \n",
       "4  2022-02-04 05:44:37+00:00   \n",
       "5  2022-02-04 02:23:20+00:00   \n",
       "6  2022-02-03 23:56:25+00:00   \n",
       "7  2022-02-03 23:06:10+00:00   \n",
       "8  2022-02-03 18:03:25+00:00   \n",
       "9  2022-02-03 15:45:53+00:00   \n",
       "10 2022-02-03 05:42:57+00:00   \n",
       "11 2022-02-02 12:54:04+00:00   \n",
       "12 2022-02-02 10:02:37+00:00   \n",
       "13 2022-02-02 08:56:27+00:00   \n",
       "14 2022-02-01 11:52:08+00:00   \n",
       "15 2022-02-01 08:50:08+00:00   \n",
       "16 2022-02-01 07:47:22+00:00   \n",
       "17 2022-02-01 02:30:44+00:00   \n",
       "18 2022-01-30 15:32:08+00:00   \n",
       "19 2022-01-30 10:02:16+00:00   \n",
       "20 2022-01-29 14:29:46+00:00   \n",
       "21 2022-01-29 14:29:45+00:00   \n",
       "22 2022-01-29 13:07:05+00:00   \n",
       "23 2022-01-29 11:34:54+00:00   \n",
       "24 2022-01-29 05:02:47+00:00   \n",
       "25 2022-01-28 22:13:58+00:00   \n",
       "26 2022-01-28 17:15:02+00:00   \n",
       "27 2022-01-28 17:15:02+00:00   \n",
       "\n",
       "                                                Tweet  \n",
       "0   Long live world peace!\\n\\n Why Putin's visit t...  \n",
       "1   I think politics is a big reason too.\\nChina t...  \n",
       "2   P3...\\n The US should know that its allies in ...  \n",
       "3   Asia is Asian!\\n\\n US President Joe Biden, who...  \n",
       "4   In mainland China, online MeToo posts were slo...  \n",
       "5   @rupagulab Coz he maybe popular amongst the gu...  \n",
       "6   It's not like China when govt has power to cha...  \n",
       "7   I really dislike China ppl asking me for direc...  \n",
       "8   Important distinction: imperial China had a tr...  \n",
       "9      We love Jacky China 🇨🇳 https://t.co/AQFXz4pYqW  \n",
       "10  This cat and dog comics from China is quite cu...  \n",
       "11  @chorpharn Maybe they’re salty that China has ...  \n",
       "12  \"Winning over China is a billion times bigger ...  \n",
       "13  Cancel mob motto.\\n\\nDun cancel apple, Google,...  \n",
       "14  @Eugeneksk we should be china then can have on...  \n",
       "15  Finally Buddhist temples in Singapore have cau...  \n",
       "16  So apparently in China they are off for 10 day...  \n",
       "17  Building in China. The lack of windows us very...  \n",
       "18  Jessica Tan, Co-CEO and Executive Director of ...  \n",
       "19  China reports 34 new COVID-19 cases among Olym...  \n",
       "20  As long as my taobao comes\\n\\nOr is it \"China ...  \n",
       "21  Just curious what is woke Twitter Singapore mo...  \n",
       "22  One of first casualty of covid19 , China a doc...  \n",
       "23  A must-follow for China news. https://t.co/tLK...  \n",
       "24  Welcome to China #Ultraman #Veve https://t.co/...  \n",
       "25  Where people are treated like animals. 国家only ...  \n",
       "26         China is its own world economy onto itself  \n",
       "27  China is technically a world of its whole with...  "
      ]
     },
     "execution_count": 5,
     "metadata": {},
     "output_type": "execute_result"
    }
   ],
   "source": [
    "items = []\n",
    "for tweet in tweets:\n",
    "    items.append([tweet.created_at, tweet.text])\n",
    "\n",
    "df = pd.DataFrame(data=items, columns=[\"Created At\", \"Tweet\"])\n",
    "df"
   ]
  },
  {
   "cell_type": "markdown",
   "id": "b42dcf38",
   "metadata": {},
   "source": [
    "Keep in mind that API.search_tweets only able to get tweets maximum 1 week before today. That is why we only got tweets until 28 January 2022. We need premium token to request tweets without time limited."
   ]
  },
  {
   "cell_type": "markdown",
   "id": "2777a125",
   "metadata": {},
   "source": [
    "## Data Preparation"
   ]
  },
  {
   "cell_type": "markdown",
   "id": "176dd9d9",
   "metadata": {},
   "source": [
    "In order for this data to be analyzed, it is necessary to preprocess the data."
   ]
  },
  {
   "cell_type": "markdown",
   "id": "6d8398f2",
   "metadata": {},
   "source": [
    "#### Text Preprocessing"
   ]
  },
  {
   "cell_type": "markdown",
   "id": "308980e6",
   "metadata": {},
   "source": [
    "Define text preprocessing functions:\n",
    "- Case folding, used to convert text to lowercase and remove numbers, special characters, and punctuation.\n",
    "- Slang cleaner, used to standardize slang words and remove inappropriate words (harsh, dirty, etc.)\n",
    "- Stopword cleaner, used to remove common words."
   ]
  },
  {
   "cell_type": "code",
   "execution_count": 6,
   "id": "9b4b9606",
   "metadata": {},
   "outputs": [],
   "source": [
    "def case_folding(data):\n",
    "    data = data.lower()\n",
    "    data = ' '.join(re.sub(\"(@[A-Za-z0-9]+)|([^0-9A-Za-z \\t])|(\\w+:\\/\\/\\S+)\", \" \", data).split())\n",
    "    data = re.sub(r\"\\d+\", \"\", data)\n",
    "    data = data.translate(str.maketrans(\"\", \"\", string.punctuation))\n",
    "    data = re.sub(r\"\\n\", \"\", data)\n",
    "    data = re.sub(r\"\\t\", \"\", data)\n",
    "    return data\n",
    "\n",
    "def slang_cleaner(data, slang_list):\n",
    "    word_token = word_tokenize(data)\n",
    "    slang_list.fillna(\"\", inplace=True)\n",
    "    slang_list = list(slang_list.itertuples(index=False, name=None))\n",
    "    word_list = []\n",
    "    for word in word_token:\n",
    "        for slang in slang_list:\n",
    "            if word in slang[0].lower():\n",
    "                word = slang[1]\n",
    "                break\n",
    "        word_list.append(word)\n",
    "    data = \" \".join(word_list)\n",
    "    return data\n",
    "    \n",
    "def stopword_cleaner(data):\n",
    "    word_token = word_tokenize(data)\n",
    "    sw_eng = stopwords.words(\"english\")\n",
    "    data  = [word for word in word_token if word not in sw_eng]\n",
    "    data = ' '.join(data)\n",
    "    return data"
   ]
  },
  {
   "cell_type": "markdown",
   "id": "9e7acaf0",
   "metadata": {},
   "source": [
    "Now we preprocess our data."
   ]
  },
  {
   "cell_type": "code",
   "execution_count": 7,
   "id": "1f97bef6",
   "metadata": {},
   "outputs": [
    {
     "data": {
      "text/html": [
       "<div>\n",
       "<style scoped>\n",
       "    .dataframe tbody tr th:only-of-type {\n",
       "        vertical-align: middle;\n",
       "    }\n",
       "\n",
       "    .dataframe tbody tr th {\n",
       "        vertical-align: top;\n",
       "    }\n",
       "\n",
       "    .dataframe thead th {\n",
       "        text-align: right;\n",
       "    }\n",
       "</style>\n",
       "<table border=\"1\" class=\"dataframe\">\n",
       "  <thead>\n",
       "    <tr style=\"text-align: right;\">\n",
       "      <th></th>\n",
       "      <th>Created At</th>\n",
       "      <th>Tweet</th>\n",
       "      <th>Tweet_clean</th>\n",
       "    </tr>\n",
       "  </thead>\n",
       "  <tbody>\n",
       "    <tr>\n",
       "      <th>0</th>\n",
       "      <td>2022-02-05 12:39:16+00:00</td>\n",
       "      <td>Long live world peace!\\n\\n Why Putin's visit t...</td>\n",
       "      <td>long live world peace putin visit beijing bad ...</td>\n",
       "    </tr>\n",
       "    <tr>\n",
       "      <th>1</th>\n",
       "      <td>2022-02-05 03:12:36+00:00</td>\n",
       "      <td>I think politics is a big reason too.\\nChina t...</td>\n",
       "      <td>think politics big reason china thinking point...</td>\n",
       "    </tr>\n",
       "    <tr>\n",
       "      <th>2</th>\n",
       "      <td>2022-02-04 14:31:38+00:00</td>\n",
       "      <td>P3...\\n The US should know that its allies in ...</td>\n",
       "      <td>p us know allies asia one japan half south kor...</td>\n",
       "    </tr>\n",
       "    <tr>\n",
       "      <th>3</th>\n",
       "      <td>2022-02-04 14:25:52+00:00</td>\n",
       "      <td>Asia is Asian!\\n\\n US President Joe Biden, who...</td>\n",
       "      <td>asia asian us president joe biden thousands mi...</td>\n",
       "    </tr>\n",
       "    <tr>\n",
       "      <th>4</th>\n",
       "      <td>2022-02-04 05:44:37+00:00</td>\n",
       "      <td>In mainland China, online MeToo posts were slo...</td>\n",
       "      <td>mainland china online metoo posts slowed due c...</td>\n",
       "    </tr>\n",
       "  </tbody>\n",
       "</table>\n",
       "</div>"
      ],
      "text/plain": [
       "                 Created At  \\\n",
       "0 2022-02-05 12:39:16+00:00   \n",
       "1 2022-02-05 03:12:36+00:00   \n",
       "2 2022-02-04 14:31:38+00:00   \n",
       "3 2022-02-04 14:25:52+00:00   \n",
       "4 2022-02-04 05:44:37+00:00   \n",
       "\n",
       "                                               Tweet  \\\n",
       "0  Long live world peace!\\n\\n Why Putin's visit t...   \n",
       "1  I think politics is a big reason too.\\nChina t...   \n",
       "2  P3...\\n The US should know that its allies in ...   \n",
       "3  Asia is Asian!\\n\\n US President Joe Biden, who...   \n",
       "4  In mainland China, online MeToo posts were slo...   \n",
       "\n",
       "                                         Tweet_clean  \n",
       "0  long live world peace putin visit beijing bad ...  \n",
       "1  think politics big reason china thinking point...  \n",
       "2  p us know allies asia one japan half south kor...  \n",
       "3  asia asian us president joe biden thousands mi...  \n",
       "4  mainland china online metoo posts slowed due c...  "
      ]
     },
     "execution_count": 7,
     "metadata": {},
     "output_type": "execute_result"
    }
   ],
   "source": [
    "slang = pd.DataFrame([[\"dun\", \"do not\"]])   # we can add more slang words\n",
    "\n",
    "df[\"Tweet_clean\"] = \"\"\n",
    "df[\"Tweet_clean\"] = df[\"Tweet\"].apply(lambda item: case_folding(item))\n",
    "df[\"Tweet_clean\"] = df[\"Tweet_clean\"].apply(lambda item: slang_cleaner(item, slang))\n",
    "df[\"Tweet_clean\"] = df[\"Tweet_clean\"].apply(lambda item: stopword_cleaner(item))\n",
    "df.head()"
   ]
  },
  {
   "cell_type": "markdown",
   "id": "4260f910",
   "metadata": {},
   "source": [
    "Export our clean data to CSV file."
   ]
  },
  {
   "cell_type": "code",
   "execution_count": 8,
   "id": "e30a9e60",
   "metadata": {},
   "outputs": [],
   "source": [
    "df.to_csv(\"China_Tweet.csv\", index=False)"
   ]
  },
  {
   "cell_type": "markdown",
   "id": "3d12e97d",
   "metadata": {},
   "source": [
    "## Data Processing"
   ]
  },
  {
   "cell_type": "markdown",
   "id": "d28d41d6",
   "metadata": {},
   "source": [
    "We are going to do simple data processing to our tweets data, by plotting and N-gram Distribution method."
   ]
  },
  {
   "cell_type": "markdown",
   "id": "76a29825",
   "metadata": {},
   "source": [
    "#### Text Analysis"
   ]
  },
  {
   "cell_type": "markdown",
   "id": "b80d031e",
   "metadata": {},
   "source": [
    "Analyzing tweets by plotting text data based on:"
   ]
  },
  {
   "cell_type": "markdown",
   "id": "13f24588",
   "metadata": {},
   "source": [
    "1. Total character frequency distribution in each tweet"
   ]
  },
  {
   "cell_type": "code",
   "execution_count": 9,
   "id": "6e36063c",
   "metadata": {},
   "outputs": [
    {
     "data": {
      "image/png": "[encoded data removed]",
      "text/plain": [
       "<Figure size 432x288 with 1 Axes>"
      ]
     },
     "metadata": {},
     "output_type": "display_data"
    }
   ],
   "source": [
    "bin_range = np.arange(0, 260, 10)\n",
    "df[\"Tweet_clean\"].str.len().hist(bins=bin_range)\n",
    "plt.title(\"Total Character per Tweet\",\n",
    "          fontweight=\"bold\",\n",
    "          size=16,\n",
    "          y=1.05)\n",
    "plt.xlabel(\"Character\")\n",
    "plt.ylabel(\"Frequency\");"
   ]
  },
  {
   "cell_type": "markdown",
   "id": "654708d0",
   "metadata": {},
   "source": [
    "2. Total word frequency distribution in each tweet"
   ]
  },
  {
   "cell_type": "code",
   "execution_count": 10,
   "id": "c702ae47",
   "metadata": {},
   "outputs": [
    {
     "data": {
      "image/png": "[encoded data removed]",
      "text/plain": [
       "<Figure size 432x288 with 1 Axes>"
      ]
     },
     "metadata": {},
     "output_type": "display_data"
    }
   ],
   "source": [
    "bin_range = np.arange(0, 50)\n",
    "df[\"Tweet_clean\"].str.split().map(lambda sentence: len(sentence)).hist(bins=bin_range)\n",
    "plt.title(\"Total Word per Tweet\",\n",
    "          fontweight=\"bold\",\n",
    "          size=16,\n",
    "          y=1.05)\n",
    "plt.xlabel(\"Word\")\n",
    "plt.ylabel(\"Frequency\");"
   ]
  },
  {
   "cell_type": "markdown",
   "id": "8021d339",
   "metadata": {},
   "source": [
    "3. Length of word frequency distribution in each tweet."
   ]
  },
  {
   "cell_type": "code",
   "execution_count": 11,
   "id": "ea800836",
   "metadata": {},
   "outputs": [
    {
     "data": {
      "image/png": "[encoded data removed]",
      "text/plain": [
       "<Figure size 432x288 with 1 Axes>"
      ]
     },
     "metadata": {},
     "output_type": "display_data"
    }
   ],
   "source": [
    "df[\"Tweet_clean\"].str.split().apply(\n",
    "    lambda sentence: [len(word) for word in sentence]).map(lambda x: np.mean(x)).hist()\n",
    "plt.title(\"Length of Word per Tweet\",\n",
    "          fontweight=\"bold\",\n",
    "          size=16,\n",
    "          y=1.05)\n",
    "plt.xlabel(\"Character\")\n",
    "plt.ylabel(\"Frequency\");"
   ]
  },
  {
   "cell_type": "markdown",
   "id": "ea57de27",
   "metadata": {},
   "source": [
    "4. Most frequent words in all tweets."
   ]
  },
  {
   "cell_type": "code",
   "execution_count": 12,
   "id": "9a9f3d39",
   "metadata": {},
   "outputs": [
    {
     "data": {
      "image/png": "[encoded data removed]",
      "text/plain": [
       "<Figure size 432x288 with 1 Axes>"
      ]
     },
     "metadata": {},
     "output_type": "display_data"
    }
   ],
   "source": [
    "df_plot = df.copy()\n",
    "df_plot[\"Tweet_clean\"] = df_plot[\"Tweet_clean\"].apply(lambda item: word_tokenize(str(item)))\n",
    "text = [word for tweet in df_plot[\"Tweet_clean\"] for word in tweet]\n",
    "\n",
    "fqdist = FreqDist(text)\n",
    "most_common_word = fqdist.most_common(20)\n",
    "fqdist.plot(20, cumulative=False);   # show 20 most frequent words"
   ]
  },
  {
   "cell_type": "markdown",
   "id": "1d6fe0ed",
   "metadata": {},
   "source": [
    "##### N-gram Distribution"
   ]
  },
  {
   "cell_type": "markdown",
   "id": "f59e2ca8",
   "metadata": {},
   "source": [
    "N-gram Distribution is a text analysis method that combines every n words to a single group. In this case, we use n = 2, also known as Bi-gram Distribution method."
   ]
  },
  {
   "cell_type": "code",
   "execution_count": 13,
   "id": "7ac5291c",
   "metadata": {},
   "outputs": [
    {
     "data": {
      "text/plain": [
       "(long, live)      1\n",
       "(jessica, tan)    1\n",
       "(china, days)     1\n",
       "(days, cny)       1\n",
       "(cny, pay)        1\n",
       "dtype: int64"
      ]
     },
     "execution_count": 13,
     "metadata": {},
     "output_type": "execute_result"
    }
   ],
   "source": [
    "tweet = [word for text in df[\"Tweet_clean\"] for word in text.split()]\n",
    "bi_gram = pd.Series(ngrams(tweet, 2)).value_counts()\n",
    "bi_gram[:5]   # show first 10 group"
   ]
  },
  {
   "cell_type": "markdown",
   "id": "b4e40f70",
   "metadata": {},
   "source": [
    "## Data Analysis"
   ]
  },
  {
   "cell_type": "markdown",
   "id": "29bfab50",
   "metadata": {},
   "source": [
    "Based on the text analysis plot, insights that can be obtained from Singaporean tweets about China is the total character per tweet are around 70-80 characters. Then, each tweet consists of an average of 10-12 words where each word is composed of 5-6 characters. Furthermore, the 3 most frequent mentioned words in Singaporean tweets about China are \"world\", \"US\", and \"one\".\n",
    "\n",
    "Based on the Bi-gram distribution analysis, insight that can be obtained is they talked mostly about Jessica Tan and Chinese New Year (CNY). This analysis result could be more reliable if more tweet data is used."
   ]
  }
 ],
 "metadata": {
  "kernelspec": {
   "display_name": "Python 3 (ipykernel)",
   "language": "python",
   "name": "python3"
  },
  "language_info": {
   "codemirror_mode": {
    "name": "ipython",
    "version": 3
   },
   "file_extension": ".py",
   "mimetype": "text/x-python",
   "name": "python",
   "nbconvert_exporter": "python",
   "pygments_lexer": "ipython3",
   "version": "3.9.6"
  }
 },
 "nbformat": 4,
 "nbformat_minor": 5
}
